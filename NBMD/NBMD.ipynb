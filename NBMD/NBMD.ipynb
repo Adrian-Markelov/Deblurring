{
 "cells": [
  {
   "cell_type": "code",
   "execution_count": 2,
   "metadata": {
    "collapsed": true
   },
   "outputs": [],
   "source": [
    "# TODO:\n",
    "#    - Implement get_filter\n",
    "#    - Resolve off by 1 situation with output (which is G_fourier_coeffs)\n",
    "#    - Implement batching from the hardrive of directory of patch images"
   ]
  },
  {
   "cell_type": "code",
   "execution_count": 1,
   "metadata": {},
   "outputs": [],
   "source": [
    "from scipy import io\n",
    "import matplotlib.pyplot as plt\n",
    "import matplotlib.image as mpimg\n",
    "import tensorflow as tf"
   ]
  },
  {
   "cell_type": "code",
   "execution_count": 6,
   "metadata": {},
   "outputs": [
    {
     "name": "stdout",
     "output_type": "stream",
     "text": [
      "(41, 41, 99999)\n"
     ]
    },
    {
     "data": {
      "text/plain": [
       "<matplotlib.image.AxesImage at 0x7fda4344f390>"
      ]
     },
     "execution_count": 6,
     "metadata": {},
     "output_type": "execute_result"
    },
    {
     "data": {
      "image/png": "[encoded data removed]",
      "text/plain": [
       "<Figure size 432x288 with 1 Axes>"
      ]
     },
     "metadata": {},
     "output_type": "display_data"
    }
   ],
   "source": [
    "# Load all of the training data\n",
    "patches = None\n",
    "kernels = None\n",
    "\n",
    "o = io.loadmat('../../data/kernels/train_kernels.mat')\n",
    "kernels = o['kernels']\n"
   ]
  },
  {
   "cell_type": "code",
   "execution_count": null,
   "metadata": {
    "collapsed": true
   },
   "outputs": [],
   "source": []
  },
  {
   "cell_type": "code",
   "execution_count": 8,
   "metadata": {},
   "outputs": [
    {
     "ename": "NameError",
     "evalue": "name 'tf' is not defined",
     "output_type": "error",
     "traceback": [
      "\u001b[0;31m---------------------------------------------------------------------------\u001b[0m",
      "\u001b[0;31mNameError\u001b[0m                                 Traceback (most recent call last)",
      "\u001b[0;32m<ipython-input-8-f22728d45d2d>\u001b[0m in \u001b[0;36m<module>\u001b[0;34m()\u001b[0m\n\u001b[1;32m     11\u001b[0m \u001b[0mn_pixels\u001b[0m \u001b[0;34m=\u001b[0m \u001b[0;36m784\u001b[0m\u001b[0;34m\u001b[0m\u001b[0m\n\u001b[1;32m     12\u001b[0m \u001b[0;34m\u001b[0m\u001b[0m\n\u001b[0;32m---> 13\u001b[0;31m \u001b[0mx\u001b[0m \u001b[0;34m=\u001b[0m \u001b[0mtf\u001b[0m\u001b[0;34m.\u001b[0m\u001b[0mplaceholder\u001b[0m\u001b[0;34m(\u001b[0m\u001b[0;34m'float'\u001b[0m\u001b[0;34m,\u001b[0m \u001b[0;34m[\u001b[0m\u001b[0;32mNone\u001b[0m\u001b[0;34m,\u001b[0m \u001b[0mn_pixels\u001b[0m\u001b[0;34m]\u001b[0m\u001b[0;34m)\u001b[0m\u001b[0;34m\u001b[0m\u001b[0m\n\u001b[0m\u001b[1;32m     14\u001b[0m \u001b[0my\u001b[0m \u001b[0;34m=\u001b[0m \u001b[0mtf\u001b[0m\u001b[0;34m.\u001b[0m\u001b[0mplaceholder\u001b[0m\u001b[0;34m(\u001b[0m\u001b[0;34m'float'\u001b[0m\u001b[0;34m)\u001b[0m\u001b[0;34m\u001b[0m\u001b[0m\n\u001b[1;32m     15\u001b[0m \u001b[0;34m\u001b[0m\u001b[0m\n",
      "\u001b[0;31mNameError\u001b[0m: name 'tf' is not defined"
     ]
    }
   ],
   "source": [
    "# Notes:\n",
    "# We are going to officially make the training data on the fly during training.\n",
    "\n",
    "n_nodes_hl1 = 1024\n",
    "n_nodes_hl2 = 2048\n",
    "n_nodes_hl3 = 4096\n",
    "n_nodes_hl4 = 4096\n",
    "n_nodes_hl5 = 4096\n",
    "\n",
    "n_output = 4096 # total size of G_fourier_coeffs\n",
    "\n",
    "batch_size = 512\n",
    "\n",
    "\n",
    "x = tf.placeholder('float', [None, n_pixels])\n",
    "y = tf.placeholder('float')\n",
    "\n",
    "\n",
    "def neural_network_model(data):\n",
    "    \n",
    "    ## --- Adjacently Connected Layer () ---\n",
    "    \n",
    "    # Layer 1: 3 Networks each with 1024 neurons. Connected only to adjacent filters of patch\n",
    "    #          filters = (L, B1, B2, H)\n",
    "    hidden_1_1_layer = {'weights':tf.Variable(tf.random_normal([******, n_nodes_hl1])),\n",
    "                      'biases': tf.Variable(tf.random_normal([n_nodes_hl1]))}\n",
    "    hidden_1_2_layer = {'weights':tf.Variable(tf.random_normal([******, n_nodes_hl1])),\n",
    "                      'biases': tf.Variable(tf.random_normal([n_nodes_hl1]))}\n",
    "    hidden_1_3_layer = {'weights':tf.Variable(tf.random_normal([******, n_nodes_hl1])),\n",
    "                      'biases': tf.Variable(tf.random_normal([n_nodes_hl1]))}\n",
    "    \n",
    "    # Layer 2: 2 Networks each with 2048 neurons. Connected only to adjacent filters of patch\n",
    "    #          filters = (L, B1, B2, H)\n",
    "    hidden_2_1_layer = {'weights':tf.Variable(tf.random_normal([2*n_nodes_hl1, n_nodes_hl2])),\n",
    "                      'biases': tf.Variable(tf.random_normal([n_nodes_hl2]))}\n",
    "    hidden_2_2_layer = {'weights':tf.Variable(tf.random_normal([2*n_nodes_hl1, n_nodes_hl2])),\n",
    "                      'biases': tf.Variable(tf.random_normal([n_nodes_hl2]))}\n",
    "    \n",
    "    \n",
    "    # Fully Connected Hidden Layers right before filter fourier coefficients (4096 Neurons)\n",
    "    hidden_3_layer = {'weights':tf.Variable(tf.random_normal([2*n_nodes_hl2, n_nodes_hl3])),\n",
    "                      'biases': tf.Variable(tf.random_normal([n_nodes_hl3]))}\n",
    "    hidden_4_layer = {'weights':tf.Variable(tf.random_normal([n_nodes_hl3, n_nodes_hl4])),\n",
    "                      'biases': tf.Variable(tf.random_normal([n_nodes_hl4]))}\n",
    "    hidden_5_layer = {'weights':tf.Variable(tf.random_normal([n_nodes_hl4, n_nodes_hl5])),\n",
    "                      'biases': tf.Variable(tf.random_normal([n_nodes_hl5]))}\n",
    "    \n",
    "    \n",
    "    \n",
    "    output_layer = {'weights':tf.Variable(tf.random_normal([n_nodes_hl5, n_output])),\n",
    "                       'biases': tf.Variable(tf.random_normal([n_output]))}\n",
    "    \n",
    "    \n",
    "    L, B1, B2, H = get_filter(data)\n",
    "    \n",
    "    l1_1 = tf.add(tf.matmul(np.append(L,B1), hidden_1_1_layer['weights']), hidden_1_1_layer ['biases'])\n",
    "    l1_1 = tf.nn.relu(l1_1)\n",
    "    l1_2 = tf.add(tf.matmul(np.append(B1,B2), hidden_1_2_layer['weights']), hidden_1_2_layer ['biases'])\n",
    "    l1_2 = tf.nn.relu(l1_2)\n",
    "    l1_3 = tf.add(tf.matmul(np.append(B2,H), hidden_1_3_layer['weights']), hidden_1_3_layer ['biases'])\n",
    "    l1_3 = tf.nn.relu(l1_3)\n",
    "    \n",
    "    l2_1 = tf.add(tf.matmul(np.append(l1_1, l1_2), hidden_2_1_layer['weights']), hidden_2_1_layer ['biases'])\n",
    "    l2_1 = tf.nn.relu(l2_1)\n",
    "    l2_2 = tf.add(tf.matmul(np.append(l1_2, l1_3), hidden_2_2_layer['weights']), hidden_2_2_layer ['biases'])\n",
    "    l2_2 = tf.nn.relu(l2_2)\n",
    "    \n",
    "    l3 = tf.add(tf.matmul(l3, hidden_4_layer['weights']), hidden_4_layer ['biases'])\n",
    "    l3 = tf.nn.relu(l4)\n",
    "    l4 = tf.add(tf.matmul(l3, hidden_4_layer['weights']), hidden_4_layer ['biases'])\n",
    "    l4 = tf.nn.relu(l4)\n",
    "    l5 = tf.add(tf.matmul(l4, hidden_5_layer['weights']), hidden_5_layer ['biases'])\n",
    "    l5 = tf.nn.relu(l5)\n",
    "    \n",
    "    output = tf.add(tf.matmul(l5, output_layer['weights']), output_layer ['biases'])\n",
    "    return output\n",
    "\n",
    "\n",
    "def train_neural_network(x):\n",
    "    prediction = neural_network_model(x)\n",
    "    cost = tf.reduce_mean(tf.nn.softmax_cross_entropy_with_logits(logits=prediction, labels=y) )\n",
    "    optimizer = tf.train.AdamOptimizer().minimize(cost)\n",
    "    \n",
    "    epochs = 10\n",
    "    \n",
    "    \n",
    "    with tf.Session() as sess:\n",
    "        sess.run(tf.global_variables_initializer())\n",
    "        \n",
    "        for epoch in range(epochs):\n",
    "            epoch_loss = 0\n",
    "            \n",
    "            for _ in range(int(mnist.train.num_examples/batch_size)):\n",
    "                epoch_x, epoch_y = mnist.train.next_batch(batch_size)\n",
    "                \n",
    "                _, c = sess.run([optimizer, cost], feed_dict = {x: epoch_x, y: epoch_y})\n",
    "                epoch_loss = c\n",
    "            print('Epoch',epoch, 'completed out of ', epochs, 'loss: ', epoch_loss)\n",
    "        \n",
    "        correct = tf.equal(tf.argmax(prediction, 1), tf.argmax(y,1))\n",
    "        \n",
    "        accuracy = tf.reduce_mean(tf.cast(correct,'float'))\n",
    "        \n",
    "        print('Accuracy: ', accuracy.eval({x:mnist.test.images, y:mnist.test.labels}))\n",
    "\n",
    "\n",
    "train_neural_network(x)"
   ]
  },
  {
   "cell_type": "code",
   "execution_count": 3,
   "metadata": {},
   "outputs": [
    {
     "name": "stdout",
     "output_type": "stream",
     "text": [
      "[1 2 3] [4 5 6]\n",
      "[1 2 3 4 5 6]\n"
     ]
    }
   ],
   "source": [
    "import numpy as np\n",
    "a = np.array([1,2,3])\n",
    "b = np.array([4,5,6])\n",
    "print(a, b)\n",
    "c = np.append(a,b)\n",
    "print(c)"
   ]
  },
  {
   "cell_type": "code",
   "execution_count": null,
   "metadata": {
    "collapsed": true
   },
   "outputs": [],
   "source": []
  }
 ],
 "metadata": {
  "kernelspec": {
   "display_name": "Python 3",
   "language": "python",
   "name": "python3"
  },
  "language_info": {
   "codemirror_mode": {
    "name": "ipython",
    "version": 3
   },
   "file_extension": ".py",
   "mimetype": "text/x-python",
   "name": "python",
   "nbconvert_exporter": "python",
   "pygments_lexer": "ipython3",
   "version": "3.5.2"
  }
 },
 "nbformat": 4,
 "nbformat_minor": 2
}
