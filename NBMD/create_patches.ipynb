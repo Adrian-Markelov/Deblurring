{
 "cells": [
  {
   "cell_type": "code",
   "execution_count": 1,
   "metadata": {},
   "outputs": [],
   "source": [
    "import matplotlib.pyplot as plt\n",
    "import matplotlib.image as mpimg\n",
    "\n",
    "import pickle\n",
    "import os\n"
   ]
  },
  {
   "cell_type": "code",
   "execution_count": 19,
   "metadata": {},
   "outputs": [],
   "source": [
    "def make_patch(img_b):\n",
    "    return 42\n",
    "\n",
    "def blur_img(img):\n",
    "    return 42"
   ]
  },
  {
   "cell_type": "code",
   "execution_count": 8,
   "metadata": {},
   "outputs": [
    {
     "name": "stdout",
     "output_type": "stream",
     "text": [
      "2008_000805.jpg\n",
      "2011_001904.jpg\n",
      "2011_006128.jpg\n",
      "2008_008524.jpg\n",
      "2011_001730.jpg\n"
     ]
    }
   ],
   "source": [
    "# Training: 500,000 patches\n",
    "#           10,000 images\n",
    "#           50 patches per image\n",
    "# Testing: 3000 patches\n",
    "#          60 images\n",
    "#          50 patches per image\n",
    "n_imgs = 5\n",
    "n_patches_img = 2\n",
    "\n",
    "blur_images = []\n",
    "\n",
    "image_file_log = []\n",
    "\n",
    "img_dir_str = '../../data/VOCdevkit/VOC2012/JPEGImages/' \n",
    "\n",
    "directory = os.fsencode(img_dir_str)\n",
    "\n",
    "# make blury images\n",
    "count = 0;\n",
    "for file in os.listdir(directory):\n",
    "    \n",
    "    if(count == n_imgs)\n",
    "    \n",
    "    filename = os.fsdecode(file)\n",
    "    filename = img_dir_str + filename\n",
    "    \n",
    "    img = mping.imread(filename)\n",
    "    img_file_log.append(filename)\n",
    "    \n",
    "    img_b = blur_img(img)\n",
    "    blur_images.append(img_b)\n",
    "    count += 1\n",
    "\n",
    "with open('../../data/VOCdevkit/VOC2012/patches/training_blur_imgs.pickle', 'wb') as handle:\n",
    "    pickle.dump([blur_images, img_file_log], handle, protocol=pickle.HIGHEST_PROTOCOL)    \n"
   ]
  },
  {
   "cell_type": "code",
   "execution_count": null,
   "metadata": {},
   "outputs": [],
   "source": [
    "# Read blurry images and make patches\n",
    "\n",
    "with open('filename.pickle', 'rb') as handle:\n",
    "    b = pickle.load(handle)\n",
    "\n",
    "    for p in n_paches_img:\n",
    "        if(count == n_patches):\n",
    "            break\n",
    "        patch = make_patch(img)\n",
    "        patches.append(patch)\n",
    "        \n",
    "        count += 1"
   ]
  },
  {
   "cell_type": "code",
   "execution_count": 5,
   "metadata": {},
   "outputs": [
    {
     "ename": "NameError",
     "evalue": "name 'patches' is not defined",
     "output_type": "error",
     "traceback": [
      "\u001b[0;31m---------------------------------------------------------------------------\u001b[0m",
      "\u001b[0;31mNameError\u001b[0m                                 Traceback (most recent call last)",
      "\u001b[0;32m<ipython-input-5-85ed7288fb89>\u001b[0m in \u001b[0;36m<module>\u001b[0;34m()\u001b[0m\n\u001b[1;32m      1\u001b[0m \u001b[0;32mwith\u001b[0m \u001b[0mopen\u001b[0m\u001b[0;34m(\u001b[0m\u001b[0;34m'../../data/VOCdevkit/VOC2012/patches/patches.pickle'\u001b[0m\u001b[0;34m,\u001b[0m \u001b[0;34m'wb'\u001b[0m\u001b[0;34m)\u001b[0m \u001b[0;32mas\u001b[0m \u001b[0mhandle\u001b[0m\u001b[0;34m:\u001b[0m\u001b[0;34m\u001b[0m\u001b[0m\n\u001b[0;32m----> 2\u001b[0;31m     \u001b[0mpickle\u001b[0m\u001b[0;34m.\u001b[0m\u001b[0mdump\u001b[0m\u001b[0;34m(\u001b[0m\u001b[0mpatches\u001b[0m\u001b[0;34m,\u001b[0m \u001b[0mhandle\u001b[0m\u001b[0;34m,\u001b[0m \u001b[0mprotocol\u001b[0m\u001b[0;34m=\u001b[0m\u001b[0mpickle\u001b[0m\u001b[0;34m.\u001b[0m\u001b[0mHIGHEST_PROTOCOL\u001b[0m\u001b[0;34m)\u001b[0m\u001b[0;34m\u001b[0m\u001b[0m\n\u001b[0m\u001b[1;32m      3\u001b[0m \u001b[0;34m\u001b[0m\u001b[0m\n",
      "\u001b[0;31mNameError\u001b[0m: name 'patches' is not defined"
     ]
    }
   ],
   "source": [
    "with open('../../data/VOCdevkit/VOC2012/patches/training_patches.pickle', 'wb') as handle:\n",
    "    pickle.dump(patches, handle, protocol=pickle.HIGHEST_PROTOCOL)\n",
    "    "
   ]
  },
  {
   "cell_type": "code",
   "execution_count": 16,
   "metadata": {},
   "outputs": [
    {
     "name": "stdout",
     "output_type": "stream",
     "text": [
      "{'hello', 'is', 'my', 'name'}\n"
     ]
    }
   ],
   "source": [
    "a = set()\n",
    "a.add('hello')\n",
    "a.add('my')\n",
    "a.add('name')\n",
    "a.add('is')\n",
    "print(a)"
   ]
  },
  {
   "cell_type": "code",
   "execution_count": null,
   "metadata": {},
   "outputs": [],
   "source": []
  },
  {
   "cell_type": "code",
   "execution_count": null,
   "metadata": {},
   "outputs": [],
   "source": []
  }
 ],
 "metadata": {
  "kernelspec": {
   "display_name": "Python 3",
   "language": "python",
   "name": "python3"
  },
  "language_info": {
   "codemirror_mode": {
    "name": "ipython",
    "version": 3
   },
   "file_extension": ".py",
   "mimetype": "text/x-python",
   "name": "python",
   "nbconvert_exporter": "python",
   "pygments_lexer": "ipython3",
   "version": "3.5.2"
  }
 },
 "nbformat": 4,
 "nbformat_minor": 2
}
