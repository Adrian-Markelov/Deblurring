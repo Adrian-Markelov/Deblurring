{
 "cells": [
  {
   "cell_type": "code",
   "execution_count": 23,
   "metadata": {},
   "outputs": [],
   "source": [
    "import matplotlib.pyplot as plt\n",
    "import matplotlib.image as mpimg\n",
    "\n",
    "import pickle\n",
    "import os\n",
    "\n",
    "from random import randint"
   ]
  },
  {
   "cell_type": "code",
   "execution_count": 19,
   "metadata": {},
   "outputs": [],
   "source": [
    "img_dir_str = '../../data/VOCdevkit/VOC2012/JPEGImages/'\n",
    "\n",
    "\n",
    "# Note: All images are of size (500, [~332- ~450]) or ([~332- ~450], 500)\n",
    "\n",
    "\n",
    "def make_patch(img):\n",
    "    patch_size = 105\n",
    "    y_max, x_max, = img.shape\n",
    "    x_bound = x_max - patch_size\n",
    "    y_bound = y_max - patch_size\n",
    "    \n",
    "    x_corner = randint(0, x_bound)\n",
    "    y_corner = randint(0, y_bound)\n",
    "    \n",
    "    patch = img[y_corner:y_corner+patch_size, x_corner:x_corner+patch_size, :]\n",
    "    \n",
    "    \n",
    "    return 42\n"
   ]
  },
  {
   "cell_type": "code",
   "execution_count": 22,
   "metadata": {},
   "outputs": [],
   "source": [
    "'''\n",
    "Here we generate super patches which are 105x105. These are over sampled to \n",
    "take into account the edges of the biggest 65x65 kernels. \n",
    "'''\n",
    "\n",
    "\n",
    "# Get n_imgs from the VOC data set\n",
    "def save_patches(n_imgs, n_patches_img, img_dir_str):\n",
    "\n",
    "    patches = []\n",
    "    image_file_log = []\n",
    "\n",
    "     \n",
    "\n",
    "    directory = os.fsencode(img_dir_str)\n",
    "\n",
    "    # make blury images\n",
    "    count = 0;\n",
    "    for file in os.listdir(directory):\n",
    "        if(count == n_imgs):\n",
    "            break\n",
    "        filename = os.fsdecode(file)\n",
    "        filename = img_dir_str + filename\n",
    "\n",
    "        img = mpimg.imread(filename)\n",
    "        img_file_log.append(filename)\n",
    "\n",
    "        for p in n_paches_img:\n",
    "            patch = make_patch(img)\n",
    "            patches.append(patch)\n",
    "\n",
    "    with open('../../data/VOCdevkit/VOC2012/patches/training_patches.pickle', 'wb') as handle:\n",
    "        pickle.dump(patches, handle, protocol=pickle.HIGHEST_PROTOCOL)\n",
    " \n",
    "    with open('../../data/VOCdevkit/VOC2012/patches/training_image_file_log.pickle', 'wb') as handle:\n",
    "        pickle.dump(image_file_log, handle, protocol=pickle.HIGHEST_PROTOCOL)\n",
    "        \n",
    "    return\n",
    "\n",
    "\n",
    "\n"
   ]
  },
  {
   "cell_type": "code",
   "execution_count": null,
   "metadata": {},
   "outputs": [],
   "source": [
    "# Training: 500,000 patches\n",
    "#           10,000 images\n",
    "#           50 patches per image\n",
    "# Testing: 3000 patches\n",
    "#          60 images\n",
    "#          50 patches per image\n",
    "\n"
   ]
  },
  {
   "cell_type": "code",
   "execution_count": 27,
   "metadata": {},
   "outputs": [],
   "source": [
    "def print_img_sizes(n_imgs, img_dir_str):\n",
    "    directory = os.fsencode(img_dir_str)\n",
    "\n",
    "    # make blury images\n",
    "    count = 0;\n",
    "    for file in os.listdir(directory):\n",
    "        if(count == n_imgs):\n",
    "            break\n",
    "        filename = os.fsdecode(file)\n",
    "        filename = img_dir_str + filename\n",
    "        img = mpimg.imread(filename)\n",
    "        print(img.shape)\n",
    "        count+=1\n",
    "    return"
   ]
  },
  {
   "cell_type": "code",
   "execution_count": null,
   "metadata": {},
   "outputs": [],
   "source": []
  },
  {
   "cell_type": "code",
   "execution_count": null,
   "metadata": {},
   "outputs": [],
   "source": []
  },
  {
   "cell_type": "code",
   "execution_count": null,
   "metadata": {},
   "outputs": [],
   "source": []
  }
 ],
 "metadata": {
  "kernelspec": {
   "display_name": "Python 3",
   "language": "python",
   "name": "python3"
  },
  "language_info": {
   "codemirror_mode": {
    "name": "ipython",
    "version": 3
   },
   "file_extension": ".py",
   "mimetype": "text/x-python",
   "name": "python",
   "nbconvert_exporter": "python",
   "pygments_lexer": "ipython3",
   "version": "3.5.2"
  }
 },
 "nbformat": 4,
 "nbformat_minor": 2
}
