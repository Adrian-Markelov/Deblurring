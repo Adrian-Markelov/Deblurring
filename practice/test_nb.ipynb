{
 "cells": [
  {
   "cell_type": "code",
   "execution_count": 123,
   "metadata": {},
   "outputs": [
    {
     "name": "stdout",
     "output_type": "stream",
     "text": [
      "Extracting data/MNIST/train-images-idx3-ubyte.gz\n",
      "Extracting data/MNIST/train-labels-idx1-ubyte.gz\n",
      "Extracting data/MNIST/t10k-images-idx3-ubyte.gz\n",
      "Extracting data/MNIST/t10k-labels-idx1-ubyte.gz\n",
      "conv_layer_1: (?, 14, 14, 32)\n",
      "conv_layer_2: (?, 7, 7, 8)\n",
      "conv_layer_3: (?, 14, 14, 32)\n",
      "conv_layer_4: (?, 28, 28, 1)\n",
      "epoch: 1\n",
      "\t batch: 0\n",
      "\t batch: 100\n",
      "\t batch: 200\n",
      "\t batch: 300\n",
      "\t batch: 400\n",
      "\t batch: 500\n",
      "\t batch: 600\n",
      "\t batch: 700\n",
      "\t batch: 800\n",
      "Epoch 1 completed out of  1 loss:  106.45726659148932\n"
     ]
    },
    {
     "data": {
      "text/plain": [
       "'./AE_model/AE_model'"
      ]
     },
     "execution_count": 123,
     "metadata": {},
     "output_type": "execute_result"
    }
   ],
   "source": [
    "%matplotlib inline\n",
    "import matplotlib.pyplot as plt\n",
    "import tensorflow as tf\n",
    "import numpy as np\n",
    "from tensorflow.examples.tutorials.mnist import input_data\n",
    "\n",
    "# Parameters for user to set\n",
    "testing_batch_size = 64\n",
    "training_batch_size = 64\n",
    "num_validation_samples = 64\n",
    "epochs = 2\n",
    "plot_rows = 4 # num of test image rows to run and plot\n",
    "plot_cols = 6 # ditto (cols must be even)\n",
    "add_skip_connect = False # if true will learn ID function in like 2 epochs\n",
    "\n",
    "\n",
    "\n",
    "\n",
    "# Getting the MNIST data set and logging its parameters\n",
    "data = input_data.read_data_sets('data/MNIST', one_hot=True)\n",
    "img_size = 28\n",
    "img_size_flat = img_size*img_size\n",
    "img_shape = (img_size, img_size)\n",
    "num_channels_x = 1\n",
    "training_size = len(data.train.labels)\n",
    "\n",
    "\n",
    "# Graph Helper Functions\n",
    "def new_weights(shape):\n",
    "    return tf.Variable(tf.truncated_normal(shape))\n",
    "\n",
    "def new_biases(length):\n",
    "    return tf.Variable(tf.truncated_normal(shape=[length]))\n",
    "\n",
    "\n",
    "def new_conv_layer(input,num_input_channels,filter_size,num_filters, use_pooling=True):\n",
    "    shape = [filter_size, filter_size, num_input_channels, num_filters]\n",
    "    weights = new_weights(shape=shape)\n",
    "    biases = new_biases(length=num_filters)\n",
    "    layer = tf.nn.conv2d(input=input,filter=weights, strides=[1,1,1,1], padding='SAME')\n",
    "    layer += biases\n",
    "    if(use_pooling):\n",
    "        layer = tf.nn.max_pool(value=layer, ksize=[1,2,2,1], strides= [1,2,2,1], padding='SAME')\n",
    "    layer = tf.nn.relu(layer)\n",
    "    return layer, weights\n",
    "    \n",
    "\n",
    "def new_conv_trans_layer(inputs,num_input_channels,filter_size,num_filters):\n",
    "    layer = tf.layers.conv2d_transpose(inputs=inputs,filters=num_filters, kernel_size=[2,2], strides=2)\n",
    "    return layer\n",
    "\n",
    "\n",
    "# This functions builds the graph for the autoencoder\n",
    "def build_net(x, add_skip_connect):\n",
    "    filter_size = 3\n",
    "    num_filters_l1 = 32\n",
    "    num_filters_l2 = 8\n",
    "    num_filters_l3 = 32\n",
    "    num_filters_output = 1\n",
    "\n",
    "    # Down Sampling\n",
    "    conv_layer_1,_ = new_conv_layer(x ,num_channels_x,filter_size,num_filters_l1, use_pooling=True)\n",
    "    conv_layer_2,_ = new_conv_layer(conv_layer_1, num_filters_l1, filter_size, num_filters_l2, use_pooling=True)    \n",
    "    \n",
    "    # Up Sampling\n",
    "    conv_layer_3 = new_conv_trans_layer(conv_layer_2 ,num_filters_l2,filter_size,num_filters_l3)\n",
    "    # Add conv_layer_1 and conv_layer_3 together (both are (14,14) images)\n",
    "    if(add_skip_connect):\n",
    "        print('conv_layer_3 in skip connected. Shape should be: [%s + %s]'%(conv_layer_3.get_shape(), conv_layer_1.get_shape()))\n",
    "        conv_layer_3 = tf.concat([conv_layer_3,conv_layer_1],3) # index 3 is the channel index\n",
    "        num_filters_l3 = conv_layer_3.get_shape()[3]\n",
    "    \n",
    "    output = new_conv_trans_layer(conv_layer_3, num_filters_l3, filter_size, num_filters_output)\n",
    "    output = tf.nn.relu(output, name='output')\n",
    "    \n",
    "    # save an optimizer for the given graph above\n",
    "    cost = tf.reduce_mean(tf.square(output-x))\n",
    "    optimizer = tf.train.AdamOptimizer().minimize(cost)\n",
    "    \n",
    "    print('conv_layer_1: %s'%conv_layer_1.get_shape())\n",
    "    print('conv_layer_2: %s'%conv_layer_2.get_shape())\n",
    "    print('conv_layer_3: %s'%conv_layer_3.get_shape())\n",
    "    print('conv_layer_4: %s'%output.get_shape())\n",
    "\n",
    "    return cost, optimizer, output\n",
    "\n",
    "\n",
    "\n",
    "\n",
    "## Build the autoencoder graph and set up TF variables\n",
    "x = tf.placeholder(tf.float32, shape=[None, img_size, img_size, 1], name= 'x')\n",
    "cost, optimizer, output = build_net(x, add_skip_connect=add_skip_connect)\n",
    "session = tf.Session()\n",
    "session.run(tf.global_variables_initializer())\n",
    "saver = tf.train.Saver()\n",
    "\n",
    "# Create vectors to save the loss function over time\n",
    "epoch_training_loss_log = np.zeros(epochs)\n",
    "epoch_validation_loss_log = np.zeros(epochs)\n",
    "\n",
    "# Sample the validation set and keep it for all training\n",
    "batch_x_flat_validation,_  = data.test.next_batch(num_validation_samples)\n",
    "batch_x_validation  = batch_x_flat_validation.reshape((-1,img_size,img_size,1))\n",
    "\n",
    "\n",
    "# Training Routine\n",
    "for epoch in range(epochs):\n",
    "    print('epoch: %d'%(epoch+1))\n",
    "    epoch_training_loss = 0\n",
    "    epoch_validation_loss = 0\n",
    "    num_batches = int(training_size/training_batch_size)\n",
    "    \n",
    "    # iterate over all batches in training data set\n",
    "    for batch in range(num_batches):\n",
    "        if(batch%100==0): print('\\t batch: %d'%batch)\n",
    "        \n",
    "        #sample a training batch\n",
    "        batch_x_flat_training,_ = data.train.next_batch(training_batch_size)\n",
    "        batch_x_training = batch_x_flat_training.reshape((-1,img_size,img_size,1))\n",
    "        \n",
    "        #run and optimize graph on given batch and log the cost\n",
    "        _, c_training = session.run([optimizer, cost], feed_dict = {x: batch_x_training})\n",
    "        _, c_validation =  session.run([optimizer, cost], feed_dict = {x: batch_x_validation})\n",
    "        epoch_training_loss += c_training\n",
    "        epoch_validation_loss += c_validation\n",
    "    \n",
    "    epoch_training_loss_log[epoch] = epoch_training_loss\n",
    "    epoch_validation_loss_log[epoch] = epoch_validation_loss\n",
    "    print('Epoch',epoch+1, 'completed out of ', epochs, 'loss: ', epoch_training_loss)\n",
    "\n",
    "\n",
    "\n",
    "saver.save(session, './AE_model/AE_model')\n"
   ]
  },
  {
   "cell_type": "code",
   "execution_count": 124,
   "metadata": {},
   "outputs": [],
   "source": [
    "# Run the learned network on testing data\n",
    "flat_imgs,_ = data.test.next_batch(testing_batch_size)\n",
    "imgs = flat_imgs.reshape((-1,img_size,img_size,1))\n",
    "feed_dict = {x: imgs}\n",
    "[imgs_recon] = session.run([output], feed_dict)\n"
   ]
  },
  {
   "cell_type": "code",
   "execution_count": 125,
   "metadata": {},
   "outputs": [
    {
     "data": {
      "image/png": "[encoded data removed]",
      "text/plain": [
       "<matplotlib.figure.Figure at 0x13098bba8>"
      ]
     },
     "metadata": {},
     "output_type": "display_data"
    },
    {
     "data": {
      "image/png": "[encoded data removed]",
      "text/plain": [
       "<matplotlib.figure.Figure at 0x128dadda0>"
      ]
     },
     "metadata": {},
     "output_type": "display_data"
    }
   ],
   "source": [
    "# Show original images and reconstructed images\n",
    "fig = plt.figure(figsize=(10,10))\n",
    "for i in range(1,plot_rows*plot_cols+1):\n",
    "    if(i%2==1):\n",
    "        fig.add_subplot(plot_rows,plot_cols,i)\n",
    "        plt.imshow(imgs[i-1,:,:,0],cmap='gray')\n",
    "    else:\n",
    "        fig.add_subplot(plot_rows,plot_cols,i)\n",
    "        plt.imshow(imgs_recon[i-2,:,:,0], cmap='gray')\n",
    "\n",
    "plt.savefig('sample_encodings.png')\n",
    "# Show loss functions\n",
    "fig_2 = plt.figure(figsize=(10,10))\n",
    "fig_2.add_subplot(1,1,1)\n",
    "plt.plot(epoch_training_loss_log,'r',label='training loss')\n",
    "plt.plot(epoch_validation_loss_log,'b', label='validation loss')\n",
    "plt.title('loss function')\n",
    "plt.xlabel('epoch')\n",
    "plt.ylabel('loss')\n",
    "\n",
    "\n",
    "plt.savefig('loss_function.png')"
   ]
  },
  {
   "cell_type": "code",
   "execution_count": null,
   "metadata": {},
   "outputs": [],
   "source": []
  },
  {
   "cell_type": "code",
   "execution_count": null,
   "metadata": {
    "collapsed": true
   },
   "outputs": [],
   "source": []
  }
 ],
 "metadata": {
  "kernelspec": {
   "display_name": "Python 3",
   "language": "python",
   "name": "python3"
  },
  "language_info": {
   "codemirror_mode": {
    "name": "ipython",
    "version": 3
   },
   "file_extension": ".py",
   "mimetype": "text/x-python",
   "name": "python",
   "nbconvert_exporter": "python",
   "pygments_lexer": "ipython3",
   "version": "3.6.1"
  }
 },
 "nbformat": 4,
 "nbformat_minor": 2
}
