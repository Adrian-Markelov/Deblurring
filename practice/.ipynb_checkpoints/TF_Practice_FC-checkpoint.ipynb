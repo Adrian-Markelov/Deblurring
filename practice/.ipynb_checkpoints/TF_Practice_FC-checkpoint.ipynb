{
 "cells": [
  {
   "cell_type": "code",
   "execution_count": null,
   "metadata": {
    "collapsed": true
   },
   "outputs": [],
   "source": [
    "%matplotlib inline\n",
    "import matplotlib.pyplot as plt\n",
    "import tensorflow as tf\n",
    "import numpy as np\n",
    "# Getting the data\n",
    "from tensorflow.examples.tutorials.mnist import input_data"
   ]
  },
  {
   "cell_type": "code",
   "execution_count": null,
   "metadata": {
    "collapsed": true
   },
   "outputs": [],
   "source": [
    "data = input_data.read_data_sets('data/MNIST', one_hot=True)\n",
    "\n",
    "img_size = 28\n",
    "img_size_flat = img_size*img_size\n",
    "img_shape = (img_size, img_size)\n",
    "num_channels = 1\n",
    "num_classes = 10\n",
    "\n",
    "training_size = len(data.train.labels)\n",
    "training_batch_size = 64"
   ]
  },
  {
   "cell_type": "code",
   "execution_count": null,
   "metadata": {
    "collapsed": true
   },
   "outputs": [],
   "source": [
    "#img = data.train.images[0].reshape((28,28))\n",
    "#print(data.train.labels[0])\n",
    "#plt.imshow(img, cmap = 'gray')"
   ]
  },
  {
   "cell_type": "code",
   "execution_count": null,
   "metadata": {
    "collapsed": true
   },
   "outputs": [],
   "source": [
    "# Graph Helper Functions\n",
    "def new_weights(shape):\n",
    "    return tf.Variable(tf.truncated_normal(shape))\n",
    "\n",
    "def new_biases(length):\n",
    "    return tf.Variable(tf.truncated_normal([length]))\n",
    "\n",
    "def new_fc_layer(layer_prev, num_inputs, num_outputs, use_relu=True):\n",
    "    \n",
    "    weights = new_weights(shape=[num_inputs, num_outputs])\n",
    "    bias = new_bias(length=num_outputs)\n",
    "    \n",
    "    layer_out = tf.add(tf.matmult(layer_prev, weights), bias)\n",
    "    if(use_relu):\n",
    "        layer_out = tf.nn.relu(layer_out)\n",
    "    return layer_out\n",
    "\n"
   ]
  },
  {
   "cell_type": "code",
   "execution_count": null,
   "metadata": {
    "collapsed": true
   },
   "outputs": [],
   "source": [
    "# network topology\n",
    "layer_1_size = 1500\n",
    "layer_2_size = 1500\n",
    "layer_3_size = 1500\n",
    "layer_output_size = num_classes\n",
    "\n",
    "# Build the TF Graph\n",
    "x_flat = tf.placeholder(tf.float32, shape=[None, img_size_flat], name= 'x_flat')\n",
    "\n",
    "x = tf.reshape(x_flat, [-1, img_size, img_size, num_channels])\n",
    "\n",
    "y_true = tf.placeholder(tf.float32, shape=[None, num_classes], name='y_true')\n",
    "\n",
    "y_true_cls = tf.argmax(y_true)\n",
    "\n",
    "layer_1 = new_fc_layer(x_flat, img_size_flat, layer_1_size)\n",
    "layer_2 = new_fc_layer(layer_1, layer_1_size, layer_2_size)\n",
    "layer_3 = new_fc_layer(layer_2, layer_2_size, layer_3_size)\n",
    "\n",
    "layer_output = new_fc_layer(layer_3, layer_3_size, layer_output_size)\n",
    "\n",
    "y_pred = tf.nn.softmax(layer_output)\n",
    "y_pred_cls = tf.argmax(y_pred, axis=1)\n",
    "\n",
    "cross_entropy = tf.nn.softmax_cross_entropy_with_logits(logits=layer_output, labels=y_true)\n",
    "\n",
    "cost = tf.reduce_mean(cross_entropy)\n",
    "\n",
    "optimizer = tf.AdamOptimizer(learning_rate=1e-4).minimize(cost)\n",
    "\n",
    "correct_pred_vec = tf.equal(y_pred_cls, y_true_cls)\n",
    "\n",
    "accuracy = tf.reduce_mean(tf.cast(correct_pred_vec, tf.float32))"
   ]
  },
  {
   "cell_type": "code",
   "execution_count": null,
   "metadata": {
    "collapsed": true
   },
   "outputs": [],
   "source": [
    "session = tf.Session()\n",
    "\n",
    "session.run(tf.global_variable_initializer())\n",
    "\n",
    "\n",
    "# Training Routine (optimize)\n",
    "\n",
    "epochs = 10\n",
    "\n",
    "for epoch in range(epochs):\n",
    "    epoch_loss = 0\n",
    "    num_batches = training_size/training_batch_size\n",
    "    for batch in range(num_batches):\n",
    "        batch_x, batch_y = mnist.train.next_batch(batch_size)\n",
    "        _, c = sess.run([optimizer, cost], feed_dict = {x: epoch_x, y: epoch_y})\n",
    "        epoch_loss += c\n",
    "    print('Epoch',epoch, 'completed out of ', epochs, 'loss: ', epoch_loss)\n",
    "\n",
    "correct = tf.equal(tf.argmax(prediction, 1), tf.argmax(y,1))\n",
    "accuracy = tf.reduce_mean(tf.cast(correct,'float'))\n",
    "\n",
    "print('Accuracy: ', accuracy.eval({x:mnist.test.images, y:mnist.test.labels}))"
   ]
  },
  {
   "cell_type": "code",
   "execution_count": null,
   "metadata": {
    "collapsed": true
   },
   "outputs": [],
   "source": []
  }
 ],
 "metadata": {
  "kernelspec": {
   "display_name": "Python 3",
   "language": "python",
   "name": "python3"
  },
  "language_info": {
   "codemirror_mode": {
    "name": "ipython",
    "version": 3
   },
   "file_extension": ".py",
   "mimetype": "text/x-python",
   "name": "python",
   "nbconvert_exporter": "python",
   "pygments_lexer": "ipython3",
   "version": "3.6.1"
  }
 },
 "nbformat": 4,
 "nbformat_minor": 2
}
